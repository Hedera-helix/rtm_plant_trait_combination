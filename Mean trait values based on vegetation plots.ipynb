{
 "cells": [
  {
   "cell_type": "code",
   "execution_count": null,
   "id": "56b47f22",
   "metadata": {},
   "outputs": [],
   "source": [
    "## start ##\n",
    "import os\n",
    "import pandas as pd\n",
    "import numpy as np\n",
    "from numpy import average\n",
    "\n",
    "\n",
    "os.chdir('/Users/danielmederer/Data Storage Folder')\n",
    "os.getcwd()\n",
    "\n",
    "\n"
   ]
  },
  {
   "cell_type": "code",
   "execution_count": null,
   "id": "a08688d3",
   "metadata": {
    "scrolled": true
   },
   "outputs": [],
   "source": [
    "df_trait = pd.read_csv(\"/Users/danielmederer/Data Storage Folder/gap_filled_final_7targets_with_ranges.csv\", sep = \",\")\n",
    "df_trait.head()\n",
    "\n"
   ]
  },
  {
   "cell_type": "code",
   "execution_count": null,
   "id": "3ecf1b38",
   "metadata": {
    "scrolled": true
   },
   "outputs": [],
   "source": [
    "df_trait = df_trait[['Species', 'chlc_mygcm2', 'nitrogenc_gm2', 'LMA_gm2', 'EWT_mgcm2', \n",
    "                     'antc_gcm2', 'caroc_gcm2', 'LAI_m2m2']]\n",
    "df_trait"
   ]
  },
  {
   "cell_type": "code",
   "execution_count": null,
   "id": "7b91ae45",
   "metadata": {},
   "outputs": [],
   "source": [
    "###IMPORTANT###\n",
    "# RUN EVERYTHING FROM HERE TRICE, ONCE FOR GRASS, ONCE FOR FOREST AND ONCE FOR SHRUBLAND"
   ]
  },
  {
   "cell_type": "code",
   "execution_count": null,
   "id": "6ff396cd",
   "metadata": {},
   "outputs": [],
   "source": [
    "df_species = pd.read_csv(\"splot_subset_grass_balanced.csv\", sep = \",\") #ONE"
   ]
  },
  {
   "cell_type": "code",
   "execution_count": null,
   "id": "4bf1be05",
   "metadata": {},
   "outputs": [],
   "source": [
    "df_species = pd.read_csv(\"splot_subset_forest_balanced.csv\", sep = \",\") #TWO"
   ]
  },
  {
   "cell_type": "code",
   "execution_count": null,
   "id": "24d4487a",
   "metadata": {},
   "outputs": [],
   "source": [
    "df_species = pd.read_csv(\"splot_subset_shrubland_balanced.csv\", sep = \",\") #THREE"
   ]
  },
  {
   "cell_type": "code",
   "execution_count": null,
   "id": "32549dcd",
   "metadata": {},
   "outputs": [],
   "source": [
    "\n",
    "df_species = df_species[['Species', 'PlotObservationID', \n",
    "                      'Relative_cover']]\n",
    "df_species"
   ]
  },
  {
   "cell_type": "code",
   "execution_count": null,
   "id": "792e7360",
   "metadata": {},
   "outputs": [],
   "source": [
    "#df_species = pd.read_csv(\"Sylt_species_covers_cor.csv\", sep = \";\")\n",
    "#df_species"
   ]
  },
  {
   "cell_type": "code",
   "execution_count": null,
   "id": "3af5cf02",
   "metadata": {},
   "outputs": [],
   "source": [
    "df_plot = (df_species.pivot_table(columns='PlotObservationID', index=['Species'], \n",
    "                       values='Relative_cover').reset_index().rename_axis(None, axis = 1))\n",
    "df_plot"
   ]
  },
  {
   "cell_type": "code",
   "execution_count": null,
   "id": "14eeb805",
   "metadata": {},
   "outputs": [],
   "source": [
    "df_plot = df_plot.fillna(0)\n"
   ]
  },
  {
   "cell_type": "code",
   "execution_count": null,
   "id": "178bad69",
   "metadata": {},
   "outputs": [],
   "source": [
    "# make a string list of species names for the plot data\n",
    "\n",
    "species_list = df_species['Species'].unique().tolist()"
   ]
  },
  {
   "cell_type": "code",
   "execution_count": null,
   "id": "45384ec1",
   "metadata": {
    "scrolled": true
   },
   "outputs": [],
   "source": [
    "# for each string, select all values in the trait column of the trait data\n",
    "\n",
    "trait_lists = df_trait.groupby('Species')['chlc_mygcm2', 'nitrogenc_gm2', 'LMA_gm2', \n",
    "                                          'EWT_mgcm2', 'antc_gcm2', 'caroc_gcm2', 'LAI_m2m2'\n",
    "                                          ].agg([\"mean\", \"std\"])\n",
    "\n",
    "\n",
    "# get mean and standard deviation of every list in the dataframe\n",
    "\n",
    "trait_lists.columns = ['chl_mean', 'chl_std', 'nit_mean', 'nit_std','lma_mean', 'lma_std', \n",
    "                       'ewt_mean', 'ewt_std', 'ant_mean', 'ant_std', 'car_mean', 'car_std', \n",
    "                       'lai_mean', 'lai_std', \n",
    "                      ]\n",
    "\n",
    "#trait_lists.columns = ['ant_mean', 'ant_std', 'car_mean', 'car_std', 'chl_mean', 'chl_std',\n",
    " #                          'lma_mean', 'lma_std', 'ewt_mean', 'ewt_std', 'lai_mean', 'lai_std']\n",
    "\n",
    "\n",
    "trait_lists\n"
   ]
  },
  {
   "cell_type": "code",
   "execution_count": null,
   "id": "a34d9e14",
   "metadata": {},
   "outputs": [],
   "source": [
    "#trait_lists2.agg(random.normal(loc=0.0, scale=1.0, size=50))\n",
    "\n",
    "# next step: write column names of new distribution dataframe\n",
    "cols = ['Species','chl_smpl', 'nit_smpl', 'lma_smpl', 'ewt_smpl', 'ant_smpl', 'car_smpl',\n",
    "       'lai_smpl']\n",
    "\n",
    "data = []\n",
    "# Group by species\n",
    "for spec, values in trait_lists.groupby('Species'):\n",
    "    # Loop over rows for each species generating 50 values per trait\n",
    "    for i, r in values.iterrows():\n",
    "        data.append([spec,             \n",
    "        abs(np.random.choice(np.random.normal(r['chl_mean'], r['chl_std'], 50))), \n",
    "        abs(np.random.choice(np.random.normal(r['nit_mean'], r['nit_std'], 50))),\n",
    "        abs(np.random.choice(np.random.normal(r['lma_mean'], r['lma_std'], 50))),\n",
    "        abs(np.random.choice(np.random.normal(r['ewt_mean'], r['ewt_std'], 50))),\n",
    "        abs(np.random.choice(np.random.normal(r['ant_mean'], r['ant_std'], 50))),\n",
    "        abs(np.random.choice(np.random.normal(r['car_mean'], r['car_std'], 50))),\n",
    "        abs(np.random.choice(np.random.normal(r['lai_mean'], r['lai_std'], 50))),\n",
    "       ])   \n",
    "        #data.append([spec,             \n",
    "        #np.random.choice(np.random.normal(r['chl_mean'], r['chl_std'], 50)), \n",
    "        #np.random.choice(np.random.normal(r['nit_mean'], r['nit_std'], 50)),\n",
    "        #np.random.choice(np.random.normal(r['lma_mean'], r['lma_std'], 50)),\n",
    "        #np.random.choice(np.random.normal(r['ewt_mean'], r['ewt_std'], 50)),\n",
    "        #np.random.choice(np.random.normal(r['ant_mean'], r['ant_std'], 50)),\n",
    "        #np.random.choice(np.random.normal(r['car_mean'], r['car_std'], 50)),\n",
    "        #np.random.choice(np.random.normal(r['lai_mean'], r['lai_std'], 50)),\n",
    "       #])   \n",
    "        \n",
    "ddf = pd.DataFrame(data, columns = cols)\n",
    "\n",
    "# Combine plot df with normal distribution df, using NAs for missing species\n",
    "\n",
    "combined_df = pd.merge(df_plot, ddf, on=\"Species\", how=\"left\")\n",
    "\n",
    "combined_df\n"
   ]
  },
  {
   "cell_type": "code",
   "execution_count": null,
   "id": "a19fd723",
   "metadata": {},
   "outputs": [],
   "source": [
    "combined_df[\"ewt_smpl\"].sample(3)"
   ]
  },
  {
   "cell_type": "code",
   "execution_count": null,
   "id": "5ede1b75",
   "metadata": {},
   "outputs": [],
   "source": [
    "len(combined_df.columns)"
   ]
  },
  {
   "cell_type": "code",
   "execution_count": null,
   "id": "3e79b844",
   "metadata": {},
   "outputs": [],
   "source": [
    "# 2. get weighted averages for each plot in the plot data\n",
    "\n",
    "# write a loop that goes through every plot column , 'car_avg', 'chl_avg', 'lma_avg', 'ewt_avg', 'lai_avg'\n",
    "\n",
    "cols = ['plot', 'chl_avg', 'nit_avg', 'lma_avg', 'ewt_avg', 'ant_avg', 'car_avg', 'lai_avg', ]\n",
    "avg_list = []\n",
    "\n",
    "# -7 depends on number of traits!\n",
    "for plot in combined_df.columns[1:(len(combined_df.columns) - 7)]:\n",
    "    \n",
    "    avg_list.append([plot, round(np.ma.average(np.ma.MaskedArray(combined_df['chl_smpl'], \n",
    "                                                            mask=np.isnan(combined_df['chl_smpl'])), \n",
    "                             weights = combined_df[plot]),5),\n",
    "                    round(np.ma.average(np.ma.MaskedArray(combined_df['nit_smpl'], \n",
    "                                                            mask=np.isnan(combined_df['nit_smpl'])), \n",
    "                             weights = combined_df[plot]),5),\n",
    "                    round(np.ma.average(np.ma.MaskedArray(combined_df['lma_smpl'], \n",
    "                                                            mask=np.isnan(combined_df['lma_smpl'])), \n",
    "                             weights = combined_df[plot]),5),\n",
    "                    round(np.ma.average(np.ma.MaskedArray(combined_df['ewt_smpl'], \n",
    "                                                            mask=np.isnan(combined_df['ewt_smpl'])), \n",
    "                             weights = combined_df[plot]),5),\n",
    "                    round(np.ma.average(np.ma.MaskedArray(combined_df['ant_smpl'], \n",
    "                                                            mask=np.isnan(combined_df['ant_smpl'])), \n",
    "                             weights = combined_df[plot]),5),\n",
    "                    round(np.ma.average(np.ma.MaskedArray(combined_df['car_smpl'], \n",
    "                                                            mask=np.isnan(combined_df['car_smpl'])), \n",
    "                             weights = combined_df[plot]),5),\n",
    "                     round(np.ma.average(np.ma.MaskedArray(combined_df['lai_smpl'], \n",
    "                                                            mask=np.isnan(combined_df['lai_smpl'])), \n",
    "                             weights = combined_df[plot]),5)]\n",
    "                   )\n",
    "                   \n",
    "    \n",
    "w_avg_per_plot = pd.DataFrame(avg_list, columns = cols)\n",
    "\n",
    "\n",
    "w_avg_per_plot  "
   ]
  },
  {
   "cell_type": "code",
   "execution_count": null,
   "id": "b7860b64",
   "metadata": {},
   "outputs": [],
   "source": [
    "\n",
    "min(w_avg_per_plot[\"nit_avg\"])\n"
   ]
  },
  {
   "cell_type": "code",
   "execution_count": null,
   "id": "a02e9a6c",
   "metadata": {
    "scrolled": true
   },
   "outputs": [],
   "source": [
    "print(w_avg_per_plot[(w_avg_per_plot[w_avg_per_plot.columns] > 0).all(axis=1)])\n",
    "df_end = w_avg_per_plot[(w_avg_per_plot[w_avg_per_plot.columns] > 0).all(axis=1)]"
   ]
  },
  {
   "cell_type": "code",
   "execution_count": null,
   "id": "a752d969",
   "metadata": {},
   "outputs": [],
   "source": [
    "###IMPORTANT###\n",
    "#USE THE CORRECT SAVE CODE ACCORDING TO THE RUN"
   ]
  },
  {
   "cell_type": "code",
   "execution_count": null,
   "id": "8088b8a5",
   "metadata": {},
   "outputs": [],
   "source": [
    "# ONE (GRASS)\n",
    "\n",
    "df_end.to_csv('sPlot_mean_averages_per_plot_grasslands.csv', index = False)\n"
   ]
  },
  {
   "cell_type": "code",
   "execution_count": null,
   "id": "cc997be8",
   "metadata": {},
   "outputs": [],
   "source": [
    "# TWO (FOREST)\n",
    "\n",
    "df_end.to_csv('sPlot_mean_averages_per_plot_forests.csv', index = False)"
   ]
  },
  {
   "cell_type": "code",
   "execution_count": null,
   "id": "671f5af3",
   "metadata": {},
   "outputs": [],
   "source": [
    "# THREE (SHRUBLAND)\n",
    "\n",
    "df_end.to_csv('sPlot_mean_averages_per_plot_shrublands.csv', index = False)"
   ]
  },
  {
   "cell_type": "code",
   "execution_count": null,
   "id": "570a6ccb",
   "metadata": {},
   "outputs": [],
   "source": []
  }
 ],
 "metadata": {
  "kernelspec": {
   "display_name": "Python 3 (ipykernel)",
   "language": "python",
   "name": "python3"
  },
  "language_info": {
   "codemirror_mode": {
    "name": "ipython",
    "version": 3
   },
   "file_extension": ".py",
   "mimetype": "text/x-python",
   "name": "python",
   "nbconvert_exporter": "python",
   "pygments_lexer": "ipython3",
   "version": "3.9.12"
  }
 },
 "nbformat": 4,
 "nbformat_minor": 5
}
