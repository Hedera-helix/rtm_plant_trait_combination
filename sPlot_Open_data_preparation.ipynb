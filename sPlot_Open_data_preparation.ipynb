{
 "cells": [
  {
   "cell_type": "code",
   "execution_count": null,
   "id": "538a8780",
   "metadata": {},
   "outputs": [],
   "source": [
    "import os\n",
    "import pandas as pd\n",
    "import numpy as np\n",
    "\n",
    "import matplotlib.pyplot as plt"
   ]
  },
  {
   "cell_type": "code",
   "execution_count": null,
   "id": "48a40873",
   "metadata": {},
   "outputs": [],
   "source": [
    "os.chdir('/Users/danielmederer/Data Storage Folder')\n",
    "os.getcwd()"
   ]
  },
  {
   "cell_type": "code",
   "execution_count": null,
   "id": "2ef747f5",
   "metadata": {},
   "outputs": [],
   "source": [
    "splot = pd.read_csv(\"sPlotOpen_DT.txt\",  sep = \"\\t\")"
   ]
  },
  {
   "cell_type": "code",
   "execution_count": null,
   "id": "4da14763",
   "metadata": {},
   "outputs": [],
   "source": [
    "splot\n",
    "# TAKE relative cover and USE only coverperc"
   ]
  },
  {
   "cell_type": "code",
   "execution_count": null,
   "id": "b7816c1a",
   "metadata": {},
   "outputs": [],
   "source": [
    "print (splot['Abundance_scale'].unique())"
   ]
  },
  {
   "cell_type": "code",
   "execution_count": null,
   "id": "c752f8f1",
   "metadata": {},
   "outputs": [],
   "source": [
    "subset_df = splot[splot['Abundance_scale']=='CoverPerc']"
   ]
  },
  {
   "cell_type": "code",
   "execution_count": null,
   "id": "44e8a3e1",
   "metadata": {},
   "outputs": [],
   "source": [
    "subset_df.to_csv('splotOpen_subset.csv', index = False)\n"
   ]
  },
  {
   "cell_type": "code",
   "execution_count": null,
   "id": "7496fd11",
   "metadata": {},
   "outputs": [],
   "source": [
    "splot[splot['Abundance_scale']=='pa']"
   ]
  },
  {
   "cell_type": "code",
   "execution_count": null,
   "id": "684a5495",
   "metadata": {},
   "outputs": [],
   "source": [
    "splot[splot['Abundance_scale']=='x_IC']"
   ]
  },
  {
   "cell_type": "code",
   "execution_count": null,
   "id": "7b9050da",
   "metadata": {},
   "outputs": [],
   "source": [
    "splot[splot['Abundance_scale']=='x_BA'].head(100000)"
   ]
  },
  {
   "cell_type": "code",
   "execution_count": null,
   "id": "0ef3c0e3",
   "metadata": {},
   "outputs": [],
   "source": []
  }
 ],
 "metadata": {
  "kernelspec": {
   "display_name": "Python 3 (ipykernel)",
   "language": "python",
   "name": "python3"
  },
  "language_info": {
   "codemirror_mode": {
    "name": "ipython",
    "version": 3
   },
   "file_extension": ".py",
   "mimetype": "text/x-python",
   "name": "python",
   "nbconvert_exporter": "python",
   "pygments_lexer": "ipython3",
   "version": "3.9.12"
  }
 },
 "nbformat": 4,
 "nbformat_minor": 5
}
