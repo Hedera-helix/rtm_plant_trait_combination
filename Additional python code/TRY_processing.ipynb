{
 "cells": [
  {
   "cell_type": "code",
   "execution_count": null,
   "id": "5b3a6887",
   "metadata": {},
   "outputs": [],
   "source": [
    "import os\n",
    "import pandas as pd\n",
    "import numpy as np\n",
    "\n",
    "import matplotlib.pyplot as plt\n"
   ]
  },
  {
   "cell_type": "code",
   "execution_count": null,
   "id": "e6f40562",
   "metadata": {},
   "outputs": [],
   "source": [
    "os.chdir('/Users/danielmederer/Data Storage Folder')\n",
    "os.getcwd()"
   ]
  },
  {
   "cell_type": "code",
   "execution_count": null,
   "id": "62fd93dd",
   "metadata": {},
   "outputs": [],
   "source": [
    "#####Read the TRY database with a selection of specific columns\n",
    "TRYdata = pd.read_csv('/Users/danielmederer/Data Storage Folder/Try_full.txt', sep = \"\\t\", \n",
    "                      usecols = ['AccSpeciesName', 'ObservationID', 'DatasetID', 'DataID', 'ObsDataID', 'TraitID', \n",
    "                                 'TraitName', 'StdValue', \"OrigUnitStr\", \"Reference\",\n",
    "                                 \"ValueKindName\", \"Replicates\", 'UnitName','ErrorRisk'],\n",
    "                      encoding='latin_1')\n",
    "#'OriglName','OrigValueStr', 'OrigUnitStr',"
   ]
  },
  {
   "cell_type": "code",
   "execution_count": null,
   "id": "4bfd2bd1",
   "metadata": {},
   "outputs": [],
   "source": [
    "TRYdata.loc[(TRYdata['TraitName'] == \"Leaf nitrogen (N) content per leaf area\")].sample(30)"
   ]
  },
  {
   "cell_type": "code",
   "execution_count": null,
   "id": "3a94c45d",
   "metadata": {},
   "outputs": [],
   "source": [
    "## Correct seed mass conversion error by TRY\n",
    "\n",
    "# select rows where 'DatasetID' == 541 and 'DataID'== 30 and multiply the values in StdValue by 1000\n",
    "TRYdata.loc[(TRYdata['DatasetID'] == 541) & (TRYdata['DataID'] == 30), 'StdValue'] *= 1000\n",
    "test = TRYdata.loc[(TRYdata['DatasetID']== 541) & (TRYdata['DataID']== 30 )]\n",
    "\n",
    "test"
   ]
  },
  {
   "cell_type": "code",
   "execution_count": null,
   "id": "fdfcf7ce",
   "metadata": {},
   "outputs": [],
   "source": [
    "## Drop chl rows with other units than mass/area\n",
    "\n",
    "TRYdata.drop(TRYdata.loc[TRYdata['OrigUnitStr'] == \"SPAD\"].index,axis=0,inplace=True)\n",
    "TRYdata.drop(TRYdata.loc[TRYdata['OrigUnitStr'] == \"spad\"].index,axis=0,inplace=True)\n",
    "TRYdata.drop(TRYdata.loc[TRYdata['OrigUnitStr'] == \"CCM Chlorophyll Content Index\"].index,axis=0,inplace=True)\n",
    "TRYdata.drop(TRYdata.loc[TRYdata['OrigUnitStr'] == \"Falker Chlorofilog Chlorophyll Content Index FCI\"].index,axis=0,inplace=True)\n",
    "TRYdata.drop(TRYdata.loc[TRYdata['OrigUnitStr'] == \"CCI \"].index,axis=0,inplace=True)\n",
    "TRYdata.drop(TRYdata.loc[TRYdata['OrigUnitStr'] == \"nan\"].index,axis=0,inplace=True)\n",
    "TRYdata.dropna(subset=[\"OrigUnitStr\"],inplace=True)\n",
    "\n",
    "\n",
    "TRYdata"
   ]
  },
  {
   "cell_type": "code",
   "execution_count": null,
   "id": "f556a6dd",
   "metadata": {},
   "outputs": [],
   "source": [
    "\n",
    "TRYdata.shape"
   ]
  },
  {
   "cell_type": "code",
   "execution_count": null,
   "id": "f3b4d4be",
   "metadata": {},
   "outputs": [],
   "source": [
    "#Drop tuples with no trait values and null StdValue values\n",
    "TRYdata.dropna(subset=[\"TraitID\"],inplace=True)\n",
    "TRYdata.dropna(subset=[\"StdValue\"],inplace=True)\n",
    "TRYdata.dropna(subset=[\"AccSpeciesName\"],inplace=True)\n",
    "print(TRYdata['TraitName'].isna().sum())\n",
    "print(TRYdata['StdValue'].isna().sum())\n",
    "print(TRYdata['AccSpeciesName'].isna().sum())\n",
    "TRYdata"
   ]
  },
  {
   "cell_type": "code",
   "execution_count": null,
   "id": "df361eeb",
   "metadata": {
    "scrolled": true
   },
   "outputs": [],
   "source": [
    "## Drop tuples with |ErrorRisk|>4 (distance from the mean/std)\n",
    "\n",
    "TRYdata.drop(TRYdata[abs(TRYdata[\"ErrorRisk\"])>4].index,axis=0,inplace=True)\n",
    "TRYdata"
   ]
  },
  {
   "cell_type": "code",
   "execution_count": null,
   "id": "d9c492b9",
   "metadata": {},
   "outputs": [],
   "source": [
    "## Data testing for errors\n",
    "\n",
    "test = TRYdata.loc[TRYdata['TraitName'] == \"Leaf chlorophyll content per leaf area\"]\n",
    "\n",
    "test[\"OrigUnitStr\"].unique()"
   ]
  },
  {
   "cell_type": "code",
   "execution_count": null,
   "id": "3484323a",
   "metadata": {},
   "outputs": [],
   "source": [
    "TRYdata[TRYdata['TraitID']==413.0].sort_values(['StdValue'], ascending=[False])\n"
   ]
  },
  {
   "cell_type": "code",
   "execution_count": null,
   "id": "5a288e51",
   "metadata": {},
   "outputs": [],
   "source": [
    "TRYdata['ObservationID'].nunique()"
   ]
  },
  {
   "cell_type": "code",
   "execution_count": null,
   "id": "69ad2aa3",
   "metadata": {},
   "outputs": [],
   "source": [
    "TRYdata['ObsDataID'].nunique()"
   ]
  },
  {
   "cell_type": "code",
   "execution_count": null,
   "id": "605ffcbb",
   "metadata": {},
   "outputs": [],
   "source": [
    "TRYdata['AccSpeciesName'].nunique()"
   ]
  },
  {
   "cell_type": "code",
   "execution_count": null,
   "id": "e38e5d74",
   "metadata": {},
   "outputs": [],
   "source": [
    "TRYdata['TraitName'].nunique()"
   ]
  },
  {
   "cell_type": "code",
   "execution_count": null,
   "id": "94f9440f",
   "metadata": {
    "scrolled": true
   },
   "outputs": [],
   "source": [
    "# Re-structure dataframe to get columns for each trait\n",
    "exp_df = (TRYdata.pivot_table(columns='TraitName', index=['AccSpeciesName', 'ObservationID', 'ObsDataID', 'UnitName'], \n",
    "                       values='StdValue').reset_index().rename_axis(None, axis = 1))\n",
    "exp_df"
   ]
  },
  {
   "cell_type": "code",
   "execution_count": null,
   "id": "fece545a",
   "metadata": {
    "scrolled": true
   },
   "outputs": [],
   "source": [
    "\n",
    "exp_df.columns"
   ]
  },
  {
   "cell_type": "code",
   "execution_count": null,
   "id": "c953c85e",
   "metadata": {},
   "outputs": [],
   "source": [
    "new_df = exp_df.rename(columns={'AccSpeciesName':'Species'})\n",
    "\n",
    "new_df \n"
   ]
  },
  {
   "cell_type": "code",
   "execution_count": null,
   "id": "8b5eead5",
   "metadata": {},
   "outputs": [],
   "source": [
    "test = new_df.sort_values([\"Wood vessel element length; stem conduit (vessel and tracheids) element length\"], ascending=[False]) \n",
    "test.head()\n",
    "\n"
   ]
  },
  {
   "cell_type": "code",
   "execution_count": null,
   "id": "38616574",
   "metadata": {},
   "outputs": [],
   "source": [
    "#TRYdata.drop(['Unnamed: 0', 'Unnamed: 5', 'ObservationID'],axis=1,inplace=True)\n",
    "# TRYdata.sample(30)\n",
    "\n",
    "new_df.to_csv('TRY_processed_unfinished.csv', index = False)\n"
   ]
  },
  {
   "cell_type": "code",
   "execution_count": null,
   "id": "78fb6f52",
   "metadata": {},
   "outputs": [],
   "source": [
    "######\n",
    "######\n",
    "######"
   ]
  },
  {
   "cell_type": "code",
   "execution_count": null,
   "id": "2506e7f4",
   "metadata": {},
   "outputs": [],
   "source": [
    "\n",
    "# Re-load _processed_ TRY (from Fuzzy matching script) for merging with eyadata\n",
    "\n",
    "TRYdata_pr = pd.read_csv('/Users/danielmederer/Data Storage Folder/TRY_values_processed_finished.csv', sep = \",\")\n",
    "\n",
    "\n",
    "#TRYdata_pr.columns = [\"SLA_mm2mg\", \"chlc_mygcm2\", \n",
    "                     # \"LDMC_gg\", \"nitrogenc_gm2\"]\n",
    "\n",
    "TRYdata_pr.sample(10)"
   ]
  },
  {
   "cell_type": "code",
   "execution_count": null,
   "id": "8431b3db",
   "metadata": {},
   "outputs": [],
   "source": [
    "# Calculate LMA and get the correct units! (g/m2)\n",
    "\n",
    "TRYdata_pr['LMA_gm2'] = 1 / TRYdata_pr['SLA_mm2mg'] * 1000\n",
    "\n",
    "\n",
    "# Calculate EWT => NAs lead to NAs\n",
    "TRYdata_pr['EWT_mgcm2'] = ((TRYdata_pr['LMA_gm2'] - TRYdata_pr['LMA_gm2'] \n",
    "                            * TRYdata_pr['LDMC_gg']) / TRYdata_pr['LDMC_gg']) /10\n",
    "\n",
    "# Change unit from gm2 to mygcm2 for chlorophyll\n",
    "TRYdata_pr['chlc_mygcm2'] = TRYdata_pr['chlc_mygcm2'] * 100\n",
    "\n"
   ]
  },
  {
   "cell_type": "code",
   "execution_count": null,
   "id": "1fa7f916",
   "metadata": {},
   "outputs": [],
   "source": [
    "TRYdata_pr['EWT_mgcm2'].sort_values(ascending=[False])"
   ]
  },
  {
   "cell_type": "code",
   "execution_count": null,
   "id": "786acfdd",
   "metadata": {},
   "outputs": [],
   "source": [
    "test = TRYdata_pr.sort_values(['chlc_mygcm2'], ascending=[False]) \n",
    "test.head(300)"
   ]
  },
  {
   "cell_type": "code",
   "execution_count": null,
   "id": "9e1bfe2b",
   "metadata": {},
   "outputs": [],
   "source": [
    "# next: concatenate TRY data with Eyas data\n",
    "\n",
    "# load Eya's data\n",
    "eyadata = pd.read_csv('/Users/danielmederer/Data Storage Folder/eyadata_processed_finished1.csv', sep = \",\")\n",
    "\n",
    "eyadata.columns"
   ]
  },
  {
   "cell_type": "code",
   "execution_count": null,
   "id": "ad0215bb",
   "metadata": {},
   "outputs": [],
   "source": [
    "eya_combine = eyadata[['Anthocyanin content (Î¼g/cmÂ²)', 'Carotenoid content (Î¼g/cmÂ²)', \n",
    "                      'Chl content (Î¼g/cmÂ²)', 'LAI (mÂ²/mÂ²)', 'LDMC (g/g)', 'LMA (g/mÂ²)', \n",
    "                      'EWT (mg/cmÂ²)']]\n",
    "                      \n",
    "eya_combine.columns = [\"antc_gcm2\", \"caroc_gcm2\", \"chlc_mygcm2\", \"LAI_m2m2\", \"LDMC_gg\",\n",
    "                      \"LMA_gm2\", \"EWT_mgcm2\"]\n",
    "\n",
    "eya_combine.sample(20) "
   ]
  },
  {
   "cell_type": "code",
   "execution_count": null,
   "id": "ebc9990d",
   "metadata": {},
   "outputs": [],
   "source": [
    "# another conversion error test\n",
    "test = eya_combine.sort_values(['EWT_mgcm2'], ascending=[False])\n",
    "test"
   ]
  },
  {
   "cell_type": "code",
   "execution_count": null,
   "id": "f6ec5678",
   "metadata": {},
   "outputs": [],
   "source": [
    "# Concatenate dataframes\n",
    "\n",
    "df_merged = pd.concat([TRYdata_pr, eya_combine], axis=0, ignore_index=True)\n",
    "\n",
    "#df_merged = pd.merge(TRYdata_pr, eya_combine, how = \"outer\")\n",
    "\n",
    "df_merged"
   ]
  },
  {
   "cell_type": "code",
   "execution_count": null,
   "id": "02782f21",
   "metadata": {},
   "outputs": [],
   "source": [
    "# Concatenate hierarchy data for species names\n",
    "\n",
    "hier_eya =pd.read_csv('/Users/danielmederer/Data Storage Folder/hierarchy_processed.csv', sep = \",\", encoding='latin_1')\n",
    "\n",
    "hier_TRY = pd.read_csv('/Users/danielmederer/Data Storage Folder/TRY_hierarchy_processed_finished.csv', sep = \",\", encoding='latin_1')\n",
    "\n",
    "hier_combined = pd.concat([hier_TRY, hier_eya], axis=0, ignore_index=True)\n",
    "\n",
    "hier_combined = hier_combined[[\"Species\", \"Genus\", \"Family\"]]\n",
    "\n",
    "hier_combined"
   ]
  },
  {
   "cell_type": "code",
   "execution_count": null,
   "id": "757ade7a",
   "metadata": {},
   "outputs": [],
   "source": [
    "# Save both\n",
    "df_merged.to_csv('gapfilling_combined_data.csv', index = False)\n",
    "\n",
    "hier_combined.to_csv('gapfilling_combined_hierarchy.csv', index = True)\n"
   ]
  },
  {
   "cell_type": "code",
   "execution_count": null,
   "id": "2d4ddfe1",
   "metadata": {},
   "outputs": [],
   "source": [
    "#TRYdata.to_csv(r'TRY_processed.csv', index = False)"
   ]
  },
  {
   "cell_type": "code",
   "execution_count": null,
   "id": "f386e43a",
   "metadata": {},
   "outputs": [],
   "source": []
  },
  {
   "cell_type": "code",
   "execution_count": null,
   "id": "560883c9",
   "metadata": {},
   "outputs": [],
   "source": []
  }
 ],
 "metadata": {
  "kernelspec": {
   "display_name": "Python 3 (ipykernel)",
   "language": "python",
   "name": "python3"
  },
  "language_info": {
   "codemirror_mode": {
    "name": "ipython",
    "version": 3
   },
   "file_extension": ".py",
   "mimetype": "text/x-python",
   "name": "python",
   "nbconvert_exporter": "python",
   "pygments_lexer": "ipython3",
   "version": "3.9.12"
  }
 },
 "nbformat": 4,
 "nbformat_minor": 5
}
